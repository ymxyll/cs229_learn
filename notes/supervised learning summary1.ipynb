{
 "cells": [
  {
   "cell_type": "markdown",
   "metadata": {},
   "source": [
    "# 1. Linear regression\n",
    "$$h_{\\vec{\\theta}}(\\vec{x}^{(i)})=\\vec{\\theta}\\ dot \\ \\vec{x}^{(i)} + b$$\n",
    "## Cost Function\n",
    "$$J(\\vec{\\theta}) = \\frac{1}{2m} \\sum_{i=1}^{n}(h_{\\vec{\\theta}}(\\vec{x}^{(i)})-\\vec{y}^{(i)})^2$$\n"
   ]
  },
  {
   "cell_type": "code",
   "execution_count": 5,
   "metadata": {},
   "outputs": [],
   "source": [
    "import numpy as np"
   ]
  },
  {
   "cell_type": "code",
   "execution_count": 6,
   "metadata": {},
   "outputs": [],
   "source": [
    "## 导入一组样本数据\n",
    "data = np.loadtxt('/home/leleyang/cs229/coursera-ml-py-sj/machine-learning-ex1/ex1data2.txt', delimiter=',', dtype=np.int64)\n",
    "X = data[:, 0:2]\n",
    "y = data[:, 2]"
   ]
  },
  {
   "cell_type": "code",
   "execution_count": 7,
   "metadata": {},
   "outputs": [],
   "source": [
    "# 对X进行预处理(末尾增加全1一列)\n",
    "X = np.c_[X, np.ones(len(X))]"
   ]
  },
  {
   "cell_type": "code",
   "execution_count": 8,
   "metadata": {},
   "outputs": [],
   "source": [
    "# 多元线性方程实现如下\n",
    "def hTheta(theta, X):\n",
    "    return np.dot(X, theta)"
   ]
  },
  {
   "cell_type": "code",
   "execution_count": 9,
   "metadata": {},
   "outputs": [],
   "source": [
    "# Cost Function实现如下\n",
    "def costFunction(theta, X, y):\n",
    "    cost = np.sum((hTheta(theta, X) - y))**2/(2*len(X))\n",
    "    return cost"
   ]
  },
  {
   "cell_type": "markdown",
   "metadata": {},
   "source": [
    "## Gradient Descent\n",
    "这里将$\\vec{x}$拓展值全为1的一列作为与b相乘的向量，这样使得b可以作为$\\vec{\\theta}$的一部分进行更新，其更新公式如下：\n",
    "$$J(\\vec{\\theta})' = \\frac{1}{m}(h_{\\vec{\\theta}}(\\vec{x}^{(i)})-\\vec{y}^{(i)})\\ dot\\ \\vec{x}^{(i)}$$\n",
    "$$\\vec{\\theta} = \\vec{\\theta} - J(\\vec{\\theta})'$$"
   ]
  },
  {
   "cell_type": "code",
   "execution_count": 10,
   "metadata": {},
   "outputs": [],
   "source": [
    "# 梯度计算如下\n",
    "def getGradient(theta, X, y):\n",
    "    grad = X.T @ (hTheta(theta, X) - y)/len(X)\n",
    "    return grad"
   ]
  },
  {
   "cell_type": "code",
   "execution_count": 11,
   "metadata": {},
   "outputs": [
    {
     "data": {
      "text/plain": [
       "array([0., 0., 0.])"
      ]
     },
     "execution_count": 11,
     "metadata": {},
     "output_type": "execute_result"
    }
   ],
   "source": [
    "## 计算示例\n",
    "theta = np.zeros(len(X[0]))\n",
    "theta"
   ]
  },
  {
   "cell_type": "code",
   "execution_count": 12,
   "metadata": {},
   "outputs": [
    {
     "name": "stdout",
     "output_type": "stream",
     "text": [
      "初始cost: 2723198301766.2236\n",
      "初始grad: [-7.64209128e+08 -1.12036770e+06 -3.40412660e+05]\n"
     ]
    }
   ],
   "source": [
    "print(f'初始cost: {costFunction(theta, X, y)}')\n",
    "print(f'初始grad: {getGradient(theta, X, y)}')"
   ]
  },
  {
   "cell_type": "markdown",
   "metadata": {},
   "source": [
    "## 特征归一化\n",
    "根据以上结果可以看出，由于X与y数量级的不同，梯度与损失的计算结果数值很大，需要小心调整超参数才能使得模型最终收敛，因此这里引入特征归一化使得模型的输入与输出均满足均值0方差1，分布在(-1, 1)区间内\n"
   ]
  },
  {
   "cell_type": "code",
   "execution_count": 13,
   "metadata": {},
   "outputs": [],
   "source": [
    "X = X[:, 0:2]\n",
    "# 特征归一化\n",
    "mu_x, std_x = np.mean(X, 0), np.std(X, 0, ddof=1)\n",
    "# ddof=0计算总体标准差，ddof=1计算样本标准差"
   ]
  },
  {
   "cell_type": "code",
   "execution_count": 14,
   "metadata": {},
   "outputs": [
    {
     "data": {
      "text/plain": [
       "(array([2000.68085106,    3.17021277]),\n",
       " array([7.94702354e+02, 7.60981887e-01]))"
      ]
     },
     "execution_count": 14,
     "metadata": {},
     "output_type": "execute_result"
    }
   ],
   "source": [
    "mu_x, std_x"
   ]
  },
  {
   "cell_type": "code",
   "execution_count": 15,
   "metadata": {},
   "outputs": [],
   "source": [
    "X = (X-mu_x)/std_x "
   ]
  },
  {
   "cell_type": "code",
   "execution_count": 16,
   "metadata": {},
   "outputs": [],
   "source": [
    "X = np.c_[X, np.ones(len(X))]"
   ]
  },
  {
   "cell_type": "code",
   "execution_count": 17,
   "metadata": {},
   "outputs": [
    {
     "name": "stdout",
     "output_type": "stream",
     "text": [
      "初始cost: 2723198301766.2236\n",
      "初始grad: [-104632.93376618  -54123.68384408 -340412.65957447]\n"
     ]
    }
   ],
   "source": [
    "print(f'初始cost: {costFunction(theta, X, y)}')\n",
    "print(f'初始grad: {getGradient(theta, X, y)}')"
   ]
  },
  {
   "cell_type": "markdown",
   "metadata": {},
   "source": [
    "## 特征工程\n",
    "倘若非线性，考虑用现有特征构造新特征进行拟合，例如\n",
    "$$h_{\\vec{\\theta}}(\\vec{X}^{(i)}) = \\theta_1 \\ dot \\ \\vec{X}^{(i)} + \\theta_2 \\ dot \\ {\\vec{X}^{(i)}}^2$$\n",
    "*具体构造视情况而定，逻辑回归lab中有一个构造的范例*"
   ]
  },
  {
   "cell_type": "markdown",
   "metadata": {},
   "source": [
    "## 图像的绘制\n",
    "本部分出现过的图像有：\n",
    "- 2d样本点图\n",
    "- 2d回归线+样本点图\n",
    "下面一一进行绘制"
   ]
  },
  {
   "cell_type": "code",
   "execution_count": 18,
   "metadata": {},
   "outputs": [],
   "source": [
    "import matplotlib.pyplot as plt"
   ]
  },
  {
   "cell_type": "code",
   "execution_count": 19,
   "metadata": {},
   "outputs": [],
   "source": [
    "## 这里选用一维线性回归数据\n",
    "data_train = np.loadtxt('/home/leleyang/cs229/coursera-ml-py-sj/machine-learning-ex1/ex1data1.txt', delimiter=',', usecols=(0, 1))\n",
    "X_train = data_train[:, 0]\n",
    "y_train = data_train[:, 1]"
   ]
  },
  {
   "cell_type": "code",
   "execution_count": 20,
   "metadata": {},
   "outputs": [],
   "source": [
    "## 2d样本点图\n",
    "def plotData(X, y):\n",
    "    plt.scatter(X, y, marker='x', c='r', label='Actual Values')\n",
    "    plt.title('xxx')\n",
    "    plt.xlabel('xlabel')\n",
    "    plt.ylabel('ylabel')\n",
    "    plt.legend()"
   ]
  },
  {
   "cell_type": "code",
   "execution_count": 21,
   "metadata": {},
   "outputs": [
    {
     "data": {
      "image/png": "[encoded data removed]",
      "text/plain": [
       "<Figure size 640x480 with 1 Axes>"
      ]
     },
     "metadata": {},
     "output_type": "display_data"
    }
   ],
   "source": [
    "plotData(X_train, y_train)\n",
    "plt.show()"
   ]
  },
  {
   "cell_type": "markdown",
   "metadata": {},
   "source": [
    "## 进行梯度下降更新theta\n",
    "不断更新theta，直到损失不再减小"
   ]
  },
  {
   "cell_type": "code",
   "execution_count": 22,
   "metadata": {},
   "outputs": [],
   "source": [
    "X_train = np.c_[X_train, np.ones(len(X_train))]"
   ]
  },
  {
   "cell_type": "code",
   "execution_count": 23,
   "metadata": {},
   "outputs": [],
   "source": [
    "theta_train = np.zeros(len(X_train[0]))"
   ]
  },
  {
   "cell_type": "code",
   "execution_count": 24,
   "metadata": {},
   "outputs": [
    {
     "name": "stdout",
     "output_type": "stream",
     "text": [
      "更新第0次，当前损失为1653.631660284588，当前梯度为[-65.32884975  -5.83913505]\n",
      "更新第10次，当前损失为24.024424398746618，当前梯度为[-0.07070746  0.70381031]\n",
      "更新第20次，当前损失为23.172984386715935，当前梯度为[-0.06944116  0.69122608]\n",
      "更新第30次，当前损失为22.35170679969812，当前梯度为[-0.06819952  0.67886665]\n",
      "更新第40次，当前损失为21.559536247996675，当前梯度为[-0.06698008  0.66672822]\n",
      "更新第50次，当前损失为20.79544114434072，当前梯度为[-0.06578245  0.65480683]\n",
      "更新第60次，当前损失为20.058426462114728，当前梯度为[-0.06460623  0.6430986 ]\n",
      "更新第70次，当前损失为19.34753243960677，当前梯度为[-0.06345104  0.63159971]\n",
      "更新第80次，当前损失为18.6618333301789，当前梯度为[-0.06231651  0.62030643]\n",
      "更新第90次，当前损失为18.000436196733627，当前梯度为[-0.06120226  0.60921508]\n"
     ]
    }
   ],
   "source": [
    "alpha = 1e-2\n",
    "epochs = 100\n",
    "show = epochs//10\n",
    "for i in range(epochs):\n",
    "    cost = costFunction(theta_train, X_train, y_train)\n",
    "    grad = getGradient(theta_train, X_train, y_train)\n",
    "    if i % show == 0:\n",
    "        print(f'更新第{i}次，当前损失为{cost}，当前梯度为{grad}')\n",
    "    theta_train -= alpha*grad"
   ]
  },
  {
   "cell_type": "code",
   "execution_count": 25,
   "metadata": {},
   "outputs": [
    {
     "data": {
      "image/png": "[encoded data removed]",
      "text/plain": [
       "<Figure size 640x480 with 1 Axes>"
      ]
     },
     "metadata": {},
     "output_type": "display_data"
    }
   ],
   "source": [
    "## 回归直线图\n",
    "X_show = X_train[:, 0:1]\n",
    "plt.plot(X_show, hTheta(theta_train, X_train), c='b', label = 'Prediction')\n",
    "plotData(X_show, y_train)\n",
    "plt.show()"
   ]
  },
  {
   "cell_type": "markdown",
   "metadata": {},
   "source": [
    "# 2. logistic regression\n",
    "\n",
    "## logistic regression model\n",
    "\n",
    "$$h_\\theta(x) = \\frac{1}{1+e^{-\\theta^Tx}}$$\n",
    "称$g(x) = \\frac{1}{1+e^{-x}}$为sigmoid函数，其取值范围在0~1区间，于是根据上式有$h_\\theta(x) = g(\\theta x)$\n",
    "\n",
    "g(x) == 0.5时，x==0\n",
    "\n",
    "其中$\\vec{\\theta}\\ dot \\ \\vec{X} = \\vec{\\theta}_1 \\ dot \\ \\vec{X}_1 + \\vec{\\theta}_2 \\ dot \\ \\vec{X}_2 + ...$(线性多项式)"
   ]
  },
  {
   "cell_type": "code",
   "execution_count": 37,
   "metadata": {},
   "outputs": [],
   "source": [
    "# sigmoid函数的实现\n",
    "def sigmoid(x):\n",
    "    return 1/(1+np.exp(-x))\n",
    "# logistic regression model的实现\n",
    "def logModel(theta, X):\n",
    "    return sigmoid(X @ theta)"
   ]
  },
  {
   "cell_type": "code",
   "execution_count": 38,
   "metadata": {},
   "outputs": [
    {
     "data": {
      "image/png": "[encoded data removed]",
      "text/plain": [
       "<Figure size 600x500 with 1 Axes>"
      ]
     },
     "metadata": {},
     "output_type": "display_data"
    }
   ],
   "source": [
    "## 绘制sigmoid函数\n",
    "t = np.arange(-10, 11)\n",
    "fig, ax = plt.subplots(1, 1, figsize=(6, 5))\n",
    "ax.plot(t, sigmoid(t), c='r')\n",
    "ax.set(title='sigmoid function', xlabel='t', ylabel='sigmoid(t)')\n",
    "plt.show()\n"
   ]
  },
  {
   "cell_type": "markdown",
   "metadata": {},
   "source": [
    "## Cost function\n",
    "\n",
    "这里用似然函数作为cost function，具体推理过程可见cs229\n",
    "\n",
    "公式如下：\n",
    "\n",
    "$$\\begin{align} J(\\theta) &= log\\ L(\\theta) \\\\ &= -\\sum_{i=1}^m\\{ y^{(i)}logh(x{(i)})+(1-y^{(i)})log(1-h(x^{(i)})) \\} \\end{align}$$\n",
    "\n",
    "若使用正则化，则还要在末尾加上$\\frac{\\lambda}{2m}\\sum_{i=2}^{n}{w^{(j)}}^2$(注意第一个项为常数项，不计入运算)\n",
    "\n",
    "*加入正则项相当于减小了每次$\\theta$应该更新的步长可以防止模型过拟合*"
   ]
  },
  {
   "cell_type": "code",
   "execution_count": 39,
   "metadata": {},
   "outputs": [],
   "source": [
    "data = np.loadtxt('/home/leleyang/cs229/coursera-ml-py/machine-learning-ex2/ex2/ex2data2.txt', delimiter=',')\n",
    "X, y = data[:, 0:2], data[:, 2]"
   ]
  },
  {
   "cell_type": "code",
   "execution_count": 88,
   "metadata": {},
   "outputs": [],
   "source": [
    "## 绘制样本点\n",
    "def logPlotData(X, y):\n",
    "    pos = np.where(y==1)[0]\n",
    "    neg = np.where(y==0)[0]\n",
    "    plt.scatter(X[pos, 0], X[pos, 1], c='y', marker='o', label='Good')\n",
    "    plt.scatter(X[neg, 0], X[neg, 1], marker='+', c='g', label='bad')\n",
    "    plt.legend()"
   ]
  },
  {
   "cell_type": "code",
   "execution_count": 66,
   "metadata": {},
   "outputs": [],
   "source": [
    "def costFunc(theta, X, y, lambda_=0):\n",
    "    m, n, h = len(X), len(X[0]), logModel(theta, X)\n",
    "    # print(m, n, h)\n",
    "    o_cost = -np.sum(y * np.log(h) + (1-y) * np.log(1 - h))/m\n",
    "    reg_cost = lambda_/(2*(n)) * np.sum(theta[1:]**2) # theta[0]是b\n",
    "    return o_cost + reg_cost"
   ]
  },
  {
   "cell_type": "markdown",
   "metadata": {},
   "source": [
    "## 特征映射\n",
    "线性模型无法拟合，需要构造复杂模型，这里构造的是6次内两特征组合，共得到28维特征"
   ]
  },
  {
   "cell_type": "code",
   "execution_count": 67,
   "metadata": {},
   "outputs": [],
   "source": [
    "def mapFeature(x0, x1, degree=6):\n",
    "    x0 = np.atleast_1d(x0)\n",
    "    x1 = np.atleast_1d(x1)\n",
    "    map_x = np.zeros(len(x1))\n",
    "    for i in range(0, degree+1):\n",
    "        for j in range(0, i+1):\n",
    "            if i == 0:\n",
    "                map_x = x0**j*x1**(i-j)\n",
    "            else:\n",
    "                map_x = np.c_[map_x, x0**j*x1**(i-j)]\n",
    "    return map_x"
   ]
  },
  {
   "cell_type": "code",
   "execution_count": 68,
   "metadata": {},
   "outputs": [],
   "source": [
    "X_map = mapFeature(X[:, 0], X[:, 1])"
   ]
  },
  {
   "cell_type": "code",
   "execution_count": 69,
   "metadata": {},
   "outputs": [],
   "source": [
    "theta = np.zeros(len(X_map[0]))"
   ]
  },
  {
   "cell_type": "code",
   "execution_count": 70,
   "metadata": {},
   "outputs": [
    {
     "data": {
      "text/plain": [
       "0.6931471805599454"
      ]
     },
     "execution_count": 70,
     "metadata": {},
     "output_type": "execute_result"
    }
   ],
   "source": [
    "costFunc(theta, X_map, y, lambda_=1)"
   ]
  },
  {
   "cell_type": "markdown",
   "metadata": {},
   "source": [
    "## Gradient Function\n",
    "\n",
    "$$\\partial J(\\theta) = {y^{(i)}-h_\\theta(x^{(i)})}\\ dot\\ x^{(i)} $$\n",
    "\n",
    "若存在正则项，则除theta第一个元素外的所有元素均需要求导计算，即$\\frac{\\lambda}{m}w^{(i)}$"
   ]
  },
  {
   "cell_type": "code",
   "execution_count": 71,
   "metadata": {},
   "outputs": [],
   "source": [
    "def GradFunc(theta, X, y, lambda_=0):\n",
    "    n = len(X[0])-1\n",
    "    \n",
    "    o_grad = -X.T @ (y-logModel(theta, X))\n",
    "    reg_grad = np.zeros(len(o_grad))\n",
    "    reg_grad[1:], reg_grad[0] = lambda_/n * theta[1:], theta[0]\n",
    "    return o_grad+reg_grad"
   ]
  },
  {
   "cell_type": "code",
   "execution_count": 72,
   "metadata": {},
   "outputs": [
    {
     "data": {
      "text/plain": [
       "array([1.        , 0.009177  , 2.216995  , 4.44445199, 1.35715703,\n",
       "       5.94066747, 2.77022569, 0.96670847, 0.8642242 , 2.16600649,\n",
       "       4.63773242, 0.36532059, 1.51748594, 0.26423021, 4.64313757,\n",
       "       3.65894222, 0.5282023 , 0.68891005, 0.3995998 , 0.51092021,\n",
       "       2.35654811, 4.57764909, 0.16242249, 0.85727509, 0.04820335,\n",
       "       0.74525354, 0.12949348, 3.66168682])"
      ]
     },
     "execution_count": 72,
     "metadata": {},
     "output_type": "execute_result"
    }
   ],
   "source": [
    "GradFunc(theta, X_map, y, 1)"
   ]
  },
  {
   "cell_type": "markdown",
   "metadata": {},
   "source": [
    "## 训练模型\n",
    "\n",
    "可使用梯度下降法或直接使用sklearn中的包"
   ]
  },
  {
   "cell_type": "code",
   "execution_count": 84,
   "metadata": {},
   "outputs": [],
   "source": [
    "theta = np.zeros(len(X_map[0]))"
   ]
  },
  {
   "cell_type": "code",
   "execution_count": 85,
   "metadata": {},
   "outputs": [
    {
     "name": "stdout",
     "output_type": "stream",
     "text": [
      "当前损失为0.6931471805599454\n",
      "当前损失为0.4458118138237255\n",
      "当前损失为0.40484301801677663\n",
      "当前损失为0.3894682435930274\n",
      "当前损失为0.3821120096286009\n",
      "当前损失为0.37805350250049\n",
      "当前损失为0.37558104390103436\n",
      "当前损失为0.37396293027457583\n",
      "当前损失为0.3728502191558606\n",
      "当前损失为0.37206230941032287\n"
     ]
    }
   ],
   "source": [
    "# 梯度下降法\n",
    "epochs = 1000\n",
    "p_epoch = epochs//10\n",
    "alpha = 0.01\n",
    "lambda_ = 0.01\n",
    "for i in range(epochs):\n",
    "    cost = costFunc(theta, X_map, y, lambda_)\n",
    "    grad = GradFunc(theta, X_map, y, lambda_)\n",
    "    if i%p_epoch == 0:\n",
    "        print(f'当前损失为{cost}')\n",
    "    theta -= alpha * grad\n"
   ]
  },
  {
   "cell_type": "markdown",
   "metadata": {},
   "source": [
    "## 决策边界\n",
    "$\\vec{\\theta}\\ dot \\ \\vec{X}$本质上是线性多项式，这里设决策阈值为0.5，这种情况下$\\vec{\\theta}\\ dot \\ \\vec{X}==0$，假如决策平面是直线(两特征基础加和，无特征映射)，则根据$\\theta_0$表示出$\\theta_1$即可；若决策平面非直线(有特征映射)，则根据$sigmoid(\\vec{\\theta}\\ dot \\ \\vec{X})$计算出决策取值，再绘制0.5处的等高线即可\n",
    "\n",
    "决策平面为直线的示例：\n",
    "```python\n",
    "def plotDB(w, b, X, y):\n",
    "    plotData(X, y)\n",
    "    plot_x0 = np.linspace(min(X[:,0]), max(X[:,0]))\n",
    "    plot_x1 = -b/w[1] - (w[0]/w[1])*plot_x0\n",
    "    # plot_x1 = (-1. / w[1]) * (w[0] * plot_x + b)\n",
    "    plt.plot(plot_x0, plot_x1, c='r', label='decision boundary')\n",
    "```"
   ]
  },
  {
   "cell_type": "code",
   "execution_count": 110,
   "metadata": {},
   "outputs": [],
   "source": [
    "# 决策平面非直线\n",
    "def plotDDB(theta, X, y):\n",
    "    X_orign = X[:, 1:3]\n",
    "    logPlotData(X_orign, y)\n",
    "    u = np.linspace(-1, 1, 100)\n",
    "    v = np.linspace(-1, 1, 100)\n",
    "    z = np.zeros((len(u), len(v)))\n",
    "    for i in range(len(u)):\n",
    "        for j in range(len(v)):\n",
    "            z[i, j] = logModel(theta, mapFeature(u[i], v[j]))\n",
    "    plt.contour(u, v, z, levels=[0.5], colors='r')"
   ]
  },
  {
   "cell_type": "code",
   "execution_count": 111,
   "metadata": {},
   "outputs": [
    {
     "data": {
      "image/png": "[encoded data removed]",
      "text/plain": [
       "<Figure size 640x480 with 1 Axes>"
      ]
     },
     "metadata": {},
     "output_type": "display_data"
    }
   ],
   "source": [
    "plotDDB(theta, X_map, y)\n",
    "plt.show()"
   ]
  },
  {
   "cell_type": "code",
   "execution_count": null,
   "metadata": {},
   "outputs": [],
   "source": []
  }
 ],
 "metadata": {
  "kernelspec": {
   "display_name": "Python 3 (ipykernel)",
   "language": "python",
   "name": "python3"
  },
  "language_info": {
   "codemirror_mode": {
    "name": "ipython",
    "version": 3
   },
   "file_extension": ".py",
   "mimetype": "text/x-python",
   "name": "python",
   "nbconvert_exporter": "python",
   "pygments_lexer": "ipython3",
   "version": "3.8.18"
  }
 },
 "nbformat": 4,
 "nbformat_minor": 2
}
